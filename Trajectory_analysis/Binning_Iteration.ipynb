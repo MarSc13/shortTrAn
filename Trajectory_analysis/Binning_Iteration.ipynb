{
 "cells": [
  {
   "cell_type": "markdown",
   "metadata": {},
   "source": [
    "This jupyter notebook <b>Binning_Iteration</b> performes the binning of subpixel to superpixels.\n",
    "\n",
    "Therefore, this notebook is suitable to determine input parameters which are best for binning (statistics, etc.).\n",
    "\n",
    "The notebook would be followed up by the jupyter notebook 'shortTrAn/Trajectory_analysis/ApplicationFilter_Iteration.ipynb'. 'shortTrAn/Trajectory_analysis/Calc_VectorAndTensorField_Iteration.ipynb' precedes this notebook."
   ]
  },
  {
   "cell_type": "code",
   "execution_count": null,
   "metadata": {},
   "outputs": [],
   "source": [
    "import numpy as np\n",
    "import tifffile as tif\n",
    "from binning import binning \n",
    "import os as os"
   ]
  },
  {
   "cell_type": "code",
   "execution_count": null,
   "metadata": {},
   "outputs": [],
   "source": [
    "#path to input data\n",
    "path_input = '/Volumes/Vin/Python/shortTrAn/Trc_'#exemplary path\n",
    "#results from the tensor and vector calculation will be stored in the folder .../TrcN\n",
    "scal = 160 #to px of 160 nm\n",
    "N = 20 #number of to be evaluated datasets"
   ]
  },
  {
   "cell_type": "code",
   "execution_count": null,
   "metadata": {},
   "outputs": [],
   "source": [
    "for num in range(1,N+1):\n",
    "    \n",
    "    path = path_input + str(num) \n",
    "    \n",
    "    pointfield=tif.imread(path +'/pointfield.tif')\n",
    "    tensorfield_xx=tif.imread(path+'/tensorfield_xx.tif')\n",
    "    tensorfield_xy=tif.imread(path+'/tensorfield_xy.tif')\n",
    "    tensorfield_yy=tif.imread(path+'/tensorfield_yy.tif')\n",
    "    tensorfield_yx=tif.imread(path+'/tensorfield_yx.tif')\n",
    "    vectorfield_x=tif.imread(path+'/vectorfield_x.tif')\n",
    "    vectorfield_y=tif.imread(path+'/vectorfield_y.tif')\n",
    "    \n",
    "    #where to save\n",
    "    if not os.path.exists(path_input+str(num)+'/'+'Binning_'+str(scal)+'/'):\n",
    "       #print('Path does not exist')\n",
    "       os.mkdir(path_input+str(num)+'/'+'Binning_'+str(scal))\n",
    "       directory = path_input+str(num)+'/'+'Binning_'+str(scal)\n",
    "    else:\n",
    "       directory = path_input+str(num)+'/'+'Binning_'+str(scal)\n",
    "    \n",
    "    #Downscaling/binning. The entries of the new pixelation contain the sum of the underlying pixelation which is \n",
    "    #is normalized by the number of contributing pixels.\n",
    "    scaled_pointfield,scaled_pointfield_inv,scaled_vectorfield_x,scaled_vectorfield_y,scaled_tensorfield_xx,\\\n",
    "    scaled_tensorfield_xy,scaled_tensorfield_yx,scaled_tensorfield_yy,scld_ten_xx,scld_ten_xy,scld_ten_yx,\\\n",
    "    scld_ten_yy,scld_vec_x,scld_vec_y=binning(scal,directory,pointfield,vectorfield_x,vectorfield_y,\n",
    "                                              tensorfield_xx,tensorfield_xy,tensorfield_yx,tensorfield_yy)\n",
    "    \n",
    "    del scaled_pointfield,scaled_pointfield_inv,scaled_vectorfield_x,scaled_vectorfield_y,scaled_tensorfield_xx,\\\n",
    "scaled_tensorfield_xy,scaled_tensorfield_yx,scaled_tensorfield_yy,scld_ten_xx,scld_ten_xy,scld_ten_yx,\\\n",
    "scld_ten_yy,scld_vec_x,scld_vec_y"
   ]
  },
  {
   "cell_type": "code",
   "execution_count": null,
   "metadata": {},
   "outputs": [],
   "source": []
  }
 ],
 "metadata": {
  "kernelspec": {
   "display_name": "Python 3",
   "language": "python",
   "name": "python3"
  },
  "language_info": {
   "codemirror_mode": {
    "name": "ipython",
    "version": 3
   },
   "file_extension": ".py",
   "mimetype": "text/x-python",
   "name": "python",
   "nbconvert_exporter": "python",
   "pygments_lexer": "ipython3",
   "version": "3.8.5"
  }
 },
 "nbformat": 4,
 "nbformat_minor": 2
}
