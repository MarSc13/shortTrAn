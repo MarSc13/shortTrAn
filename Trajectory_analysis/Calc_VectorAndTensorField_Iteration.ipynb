{
 "cells": [
  {
   "cell_type": "markdown",
   "metadata": {},
   "source": [
    "This jupyter notebook <b>Calc_VectorAndTensorField_Iteration</b> calculates the local diffusion tensors and directed motion vectors, including the following steps:\n",
    "- single-molecule trajectories are fed in\n",
    "- unit transformation to a nanometre scale\n",
    "- trajectories are filtered to meet a minimum step length for the furhter analysis\n",
    "- single localisations are excluded (important for the evaluation of simulations)\n",
    "- padding of feature spaces for later binning\n",
    "- calculation of the local diffusion tensors and directed motion vectors ± consideration of static and dynamic localisation errors.\n",
    "\n",
    "Consideration of the localisation errors can be modulated by the input parameter 'errcorr'.\n",
    "\n",
    "Therefore, it is suitable to determine input parameters which are neccessary for the initial calculation of the local diffusion tenors and directed motion vectors. \n",
    "\n",
    "The notebook would be followed up by the jupyter notebook 'shortTrAn/Trajectory_analysis/Binning_Iteration.ipynb'.\n",
    "\n",
    "The input matrices require following structure:\n",
    "- .mat file\n",
    "- 1st column: trajectory number\n",
    "- 2nd column: frame number\n",
    "- 3rd column: x-position\n",
    "- 4th column: y-position"
   ]
  },
  {
   "cell_type": "code",
   "execution_count": null,
   "metadata": {},
   "outputs": [],
   "source": [
    "import numpy as np\n",
    "import os as os\n",
    "import tifffile as tif\n",
    "from loadmat import loadmat_file \n",
    "from remove_single_part import remove_single_part \n",
    "from padding import padding  \n",
    "from create_fields import create_fields \n",
    "from calc_fields_out import calc_fields"
   ]
  },
  {
   "cell_type": "code",
   "execution_count": null,
   "metadata": {},
   "outputs": [],
   "source": [
    "Num = 20 #number of datasets to be evaluated\n",
    "input_path = '/Volumes/Reindeer/TrackingVSGAtto/Trc/Input_data/trc' #without '.mat'\n",
    "resultpath = '/Volumes/Reindeer/TrackingVSGAtto/Trc/results'\n",
    "time_lag = 10 #timelag ms\n",
    "time_exp = 9 #time expose in ms\n",
    "scale = 10 #pixelation of camera (160 nm) or pixelation of simulation mask (10 nm) \n",
    "traj_length = 1 #trajectories must to have a minimum step length of X to be processed \n",
    "\n",
    "px_padding = 160 #padding of X x1nm pix at the beginning and end of the x and y direction, respectively\n",
    "\n",
    "sigma = 26 #localisation precision in nm\n",
    "errcorr = 'no' #shall be error correction conducted? 'yes' or 'no'"
   ]
  },
  {
   "cell_type": "code",
   "execution_count": null,
   "metadata": {},
   "outputs": [],
   "source": [
    "for it in range(1,Num+1):\n",
    "    N = it #cell number\n",
    "    path = (input_path + str(N))\n",
    "    resultpath = resultpath\n",
    "    \n",
    "    #Imports data and applies the unit transfomation to 1 nm per pixel.\n",
    "    a, b, tracs,tracs_unint16, trac_num, counts, tracs_unint16corr, trac_numcorr, dt = loadmat_file(path,scale)\n",
    "\n",
    "    #Removal of all trajectories of an length shorter than 2 frames.\n",
    "    tracs_unint16corr, trac_numcorr = remove_single_part(trac_num,counts,a,tracs_unint16corr,trac_numcorr, traj_length)\n",
    "\n",
    "    #Padding. Creates additional space which is later used for the downscaling/binning.\n",
    "    x_min, x_max, y_min, y_max, a, tracs_unint16corr, x_length, y_length, shape\\\n",
    "    = padding(tracs_unint16corr, a, px_padding, resultpath, N)\n",
    "    #Creation of multiple feature space containing the countfield, diffusiontensor(xx,xy,yx,yy) \n",
    "    #and directed motion (x,y).\n",
    "    pointfield,vectorfield_x,vectorfield_y,tensorfield_xx,tensorfield_xy,tensorfield_yx,tensorfield_yy=create_fields(shape)\n",
    "    #Calculation of the derivates for each position of a trajectory based on the positional information of \n",
    "    #the input data.\n",
    "    #Followed by the calculation of the directed motion and the tranfer of the pixel wise sum of the counts,  \n",
    "    #diffusion coefficients and the speeds in the multilayer feature space.\n",
    "    directory,tensorfield_xx,tensorfield_xy,tensorfield_yx,tensorfield_yy,vectorfield_x,vectorfield_y\\\n",
    "    =calc_fields(a,time_lag,sigma,time_exp,path,resultpath,N,errcorr,pointfield,tracs_unint16corr,\n",
    "                 trac_numcorr,vectorfield_x,vectorfield_y,tensorfield_xx,tensorfield_xy,tensorfield_yx,tensorfield_yy)\n",
    "    \n",
    "    del N,path,a, b, tracs,tracs_unint16, trac_num, counts, tracs_unint16corr, trac_numcorr, dt,\\\n",
    "x_min, x_max, y_min, y_max, x_length, y_length, shape,pointfield,vectorfield_x,vectorfield_y,tensorfield_xx,\\\n",
    "tensorfield_xy,tensorfield_yx,tensorfield_yy,"
   ]
  },
  {
   "cell_type": "code",
   "execution_count": null,
   "metadata": {},
   "outputs": [],
   "source": []
  }
 ],
 "metadata": {
  "kernelspec": {
   "display_name": "Python 3",
   "language": "python",
   "name": "python3"
  },
  "language_info": {
   "codemirror_mode": {
    "name": "ipython",
    "version": 3
   },
   "file_extension": ".py",
   "mimetype": "text/x-python",
   "name": "python",
   "nbconvert_exporter": "python",
   "pygments_lexer": "ipython3",
   "version": "3.8.5"
  }
 },
 "nbformat": 4,
 "nbformat_minor": 2
}
