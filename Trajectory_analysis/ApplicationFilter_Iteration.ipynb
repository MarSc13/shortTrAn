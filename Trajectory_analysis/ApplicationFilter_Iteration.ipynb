{
 "cells": [
  {
   "cell_type": "code",
   "execution_count": 1,
   "metadata": {},
   "outputs": [],
   "source": [
    "import numpy as np\n",
    "import os as os\n",
    "import tifffile as tif\n",
    "import cv2\n",
    "\n",
    "from remove_isolated_px import remove_isolated_px \n",
    "from smoothing import smoothing"
   ]
  },
  {
   "cell_type": "code",
   "execution_count": 2,
   "metadata": {},
   "outputs": [],
   "source": [
    "#Set path until info about dataset number and path to input\n",
    "path_num = '/Volumes/Vin/Python/shortTrAn/Trc'\n",
    "path_input = '/' #allows the selection of a subfolder in which binned data are contained;\n",
    "#last sign has to be a slash /\n",
    "\n",
    "#Number of to be evaluated datasets\n",
    "N = 20\n",
    "\n",
    "#Parameter for Filter1: Removal of pixels containing less entries than the threshold.\n",
    "threshold = 6 \n",
    "\n",
    "#Parameter for Filter2: Removal of isolated pixels.\n",
    "kdim = 3 #odd number, defines folding kernel . Largest number for cross kernel is 5.\n",
    "kshape='box' #cross or box (kernel). \n",
    "\n",
    "#Parameter for Filter3: Smoothing out.\n",
    "kdim_smoothing= 3 #odd number defines smoothing kernel.\n",
    "wdth_outliers = 2 #defines width of outlier.\n",
    "mode_outliers = 'gauss' #or 'remove'"
   ]
  },
  {
   "cell_type": "code",
   "execution_count": 3,
   "metadata": {},
   "outputs": [
    {
     "name": "stdout",
     "output_type": "stream",
     "text": [
      "Finished cell 1\n",
      "Finished cell 2\n"
     ]
    }
   ],
   "source": [
    "for Nu in range(1,N+1):\n",
    "    path = path_num + str(Nu) + path_input\n",
    "\n",
    "    scaled_pointfield=tif.imread(path +'scaled_pointfield.tif')\n",
    "    scld_ten_xx=tif.imread(path+'scld_ten_xx.tif')\n",
    "    scld_ten_xy=tif.imread(path+'scld_ten_xy.tif')\n",
    "    scld_ten_yy=tif.imread(path+'scld_ten_yy.tif')\n",
    "    scld_ten_yx=tif.imread(path+'scld_ten_yx.tif')\n",
    "    scld_vec_x=tif.imread(path+'scld_vec_x.tif')\n",
    "    scld_vec_y=tif.imread(path+'scld_vec_y.tif')\n",
    "\n",
    "    if not os.path.exists(path+'results_filtering'):\n",
    "        #print('Path does not exist')\n",
    "        os.mkdir(path+'results_filtering')\n",
    "        directory = path+'results_filtering/'\n",
    "    else:\n",
    "        directory = path+'results_filtering/'\n",
    "\n",
    "    #Filter #1 and #2. Removes all pixels which have less entries then threshold x and are isolated.\n",
    "    scld_count_mskd,scld_ten_xx_mskd,scld_ten_xy_mskd,scld_ten_yx_mskd,scld_ten_yy_mskd,scld_vec_x_mskd, \\\n",
    "        scld_vec_y_mskd=remove_isolated_px(kdim,kshape,threshold,directory,scaled_pointfield,scld_ten_xx,\n",
    "                                           scld_ten_xy,scld_ten_yx,scld_ten_yy,scld_vec_x,scld_vec_y)\n",
    "\n",
    "    #Filter #3. Smoothes entries to the surrounding pixels using a for contributing entries weighted average filter \n",
    "    #of an certain kernel size kdim.\n",
    "    scld_count_fil,scld_vec_x_fil,scld_vec_y_fil,scld_ten_xx_fil,scld_ten_xy_fil,scld_ten_yx_fil,scld_ten_yy_fil\\\n",
    "    =smoothing(kdim_smoothing,wdth_outliers,mode_outliers,directory,scaled_pointfield,scld_count_mskd,scld_vec_x_mskd, \n",
    "               scld_vec_y_mskd,scld_ten_xx_mskd,scld_ten_xy_mskd,scld_ten_yx_mskd,scld_ten_yy_mskd)\n",
    "\n",
    "    #Saves input parameter in text file:\n",
    "    txt = open(directory +'input_parameter.txt',\"w+\")\n",
    "    txt.write(path_num+'N\\n')\n",
    "    txt.write(path_input +'\\n') \n",
    "    txt.write('Number of datasets: '+str(N) + '\\n')\n",
    "    txt.write('Filter 1: Threshold '+str(threshold) + '\\n') \n",
    "    txt.write('Filter 2: Kernel dimension '+str(kdim) + ' and shape ' + kshape + ' kernel \\n')  \n",
    "    txt.write('Filter 3: Kernel size '+str(kdim_smoothing)+', width outlier '+str(wdth_outliers)+', '+mode_outliers)\n",
    "    txt.close()\n",
    "    \n",
    "    print('Finished cell ' +str(Nu))\n"
   ]
  },
  {
   "cell_type": "code",
   "execution_count": null,
   "metadata": {},
   "outputs": [],
   "source": []
  },
  {
   "cell_type": "code",
   "execution_count": null,
   "metadata": {},
   "outputs": [],
   "source": []
  }
 ],
 "metadata": {
  "kernelspec": {
   "display_name": "Python 3",
   "language": "python",
   "name": "python3"
  },
  "language_info": {
   "codemirror_mode": {
    "name": "ipython",
    "version": 3
   },
   "file_extension": ".py",
   "mimetype": "text/x-python",
   "name": "python",
   "nbconvert_exporter": "python",
   "pygments_lexer": "ipython3",
   "version": "3.8.5"
  }
 },
 "nbformat": 4,
 "nbformat_minor": 2
}
