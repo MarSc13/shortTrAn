{
 "cells": [
  {
   "cell_type": "code",
   "execution_count": null,
   "metadata": {},
   "outputs": [],
   "source": [
    "from sim_directed_motion_plus_outline import directed_motion_plus_outline \n",
    "from sim_diffusion_plus_outline import EllipsoidePlotPlusOutline \n",
    "\n",
    "N = 20#number to be evaluated cells\n",
    "binning = 160 #binning to x nm,used to name the file containing the average values\n",
    "px_extent = 2 #def of number of px surrounding fp entrance area\n",
    "resultpath = '/Volumes/Reindeer/TrackingVSGAtto/Trc/results/Maps'\n",
    "path_trc='/Volumes/Reindeer/TrackingVSGAtto/Trc/results/Trc'\n",
    "filename = '/results_filtering/'\n",
    "outline_path = '/Volumes/Reindeer/TrackingVSGAtto/MORN/CoorOutline'\n",
    "highlighting = 'Yes' #shall the part which is wrapped around the fp entrance be highlighted? 'Yes' or 'No'\n",
    "errcorr = 'Yes'#shall the error correction be performed? 'Yes' or 'No'\n",
    "time_lag = 10 #time lag in ms\n",
    "sigma = 26 #localisation precision in nm"
   ]
  },
  {
   "cell_type": "code",
   "execution_count": null,
   "metadata": {},
   "outputs": [],
   "source": [
    "directed_motion_plus_outline(path,filename,outline_path,resultpath,binning,\\\n",
    "                             sigma,time_lag,px_extent,N,highlighting,errcorr)"
   ]
  },
  {
   "cell_type": "code",
   "execution_count": null,
   "metadata": {},
   "outputs": [],
   "source": [
    "EllipsoidePlotPlusOutline(path,filename,outline_path,resultpath,binning,px_extent,N,highlighting)"
   ]
  },
  {
   "cell_type": "code",
   "execution_count": null,
   "metadata": {},
   "outputs": [],
   "source": []
  }
 ],
 "metadata": {
  "kernelspec": {
   "display_name": "Python 3",
   "language": "python",
   "name": "python3"
  },
  "language_info": {
   "codemirror_mode": {
    "name": "ipython",
    "version": 3
   },
   "file_extension": ".py",
   "mimetype": "text/x-python",
   "name": "python",
   "nbconvert_exporter": "python",
   "pygments_lexer": "ipython3",
   "version": "3.8.5"
  }
 },
 "nbformat": 4,
 "nbformat_minor": 2
}
