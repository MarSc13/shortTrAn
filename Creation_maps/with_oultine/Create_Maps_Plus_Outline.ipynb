{
 "cells": [
  {
   "cell_type": "markdown",
   "metadata": {},
   "source": [
    "The jupyter notebook <b>Create_Maps_Plus_Outline</b> creates the diffusion and direted motion maps plus the outline of a structural element. The maps show the local information on diffusion and directed motion. The localisation error in the directed motion is taken into account here. The calculation is defined by the input parameter 'errcorr'. In addition, the region of the strucutral element is extracted to access the information on this region (input parameter 'px_extent' defines size of the region).\n",
    "\n",
    "<b>Diffusion:</b>\n",
    "The diffusion map is an ellipse plot. The eigenvalues (diffusion coefficients) and eigenvectors (orientation of the ellipses) are calculated from the local diffusion tensors. Additionally, the eigenvalues are used to calculate the eccentricity of the ellipses. Finally, the plots (.pdf,.png) and information on the diffusion coeffcients, angle as well as the eccentricity are saved to the result folder of the diffusion maps. \n",
    "\n",
    "<b>Directed motion:</b>\n",
    "The local velocities are calculated by the local directed motion vectors. The results of the directed motion calculations are presented in three or at least two maps: \n",
    "- Heat map displaying the amplitude of the velocities,\n",
    "- Quiver plot indicating the direction of the velocities\n",
    "- (Heat map of the relative standard error for the consideration of the localisation error influence).\n",
    "\n",
    "Finally, the plots (.pdf,.png) and information about the speed, angle (and relative error) are saved to the results folder of the directed motion maps.\n",
    "\n",
    "To run this notebook, the analysis of the trajectories (shortTrAn/Trajectory_analysis) and the extraction of the outline (shortTrAn/Outline_markerROI/outline_marker_signal.py) must have been carried out beforehand. If the highlighting is desired, the script (shortTrAn/Outline_markerROI/Highlighting_fp.py) must also be executed."
   ]
  },
  {
   "cell_type": "code",
   "execution_count": null,
   "metadata": {},
   "outputs": [],
   "source": [
    "from sim_directed_motion_plus_outline import directed_motion_plus_outline \n",
    "from sim_diffusion_plus_outline import EllipsoidePlotPlusOutline \n",
    "\n",
    "N = 20#number to be evaluated cells\n",
    "binning = 160 #binning to x nm,used to name the file containing the average values\n",
    "px_extent = 2 #def of number of px surrounding fp entrance area\n",
    "resultpath = '/Volumes/Reindeer/TrackingVSGAtto/Trc/results/Maps'\n",
    "path_trc='/Volumes/Reindeer/TrackingVSGAtto/Trc/results/Trc'\n",
    "filename = '/results_filtering/'\n",
    "outline_path = '/Volumes/Reindeer/TrackingVSGAtto/MORN/CoorOutline'\n",
    "highlighting = 'Yes' #shall the part which is wrapped around the fp entrance be highlighted? 'Yes' or 'No'\n",
    "errcorr = 'Yes'#shall the error correction be performed? 'Yes' or 'No'\n",
    "time_lag = 10 #time lag in ms\n",
    "sigma = 26 #localisation precision in nm"
   ]
  },
  {
   "cell_type": "code",
   "execution_count": null,
   "metadata": {},
   "outputs": [],
   "source": [
    "directed_motion_plus_outline(path,filename,outline_path,resultpath,binning,\\\n",
    "                             sigma,time_lag,px_extent,N,highlighting,errcorr)"
   ]
  },
  {
   "cell_type": "code",
   "execution_count": null,
   "metadata": {},
   "outputs": [],
   "source": [
    "EllipsoidePlotPlusOutline(path,filename,outline_path,resultpath,binning,px_extent,N,highlighting)"
   ]
  },
  {
   "cell_type": "code",
   "execution_count": null,
   "metadata": {},
   "outputs": [],
   "source": []
  }
 ],
 "metadata": {
  "kernelspec": {
   "display_name": "Python 3",
   "language": "python",
   "name": "python3"
  },
  "language_info": {
   "codemirror_mode": {
    "name": "ipython",
    "version": 3
   },
   "file_extension": ".py",
   "mimetype": "text/x-python",
   "name": "python",
   "nbconvert_exporter": "python",
   "pygments_lexer": "ipython3",
   "version": "3.8.5"
  }
 },
 "nbformat": 4,
 "nbformat_minor": 2
}
