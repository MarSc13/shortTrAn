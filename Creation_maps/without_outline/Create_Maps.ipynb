{
 "cells": [
  {
   "cell_type": "code",
   "execution_count": null,
   "metadata": {},
   "outputs": [],
   "source": [
    "from sim_directed_motion import directed_motion as motion_map\n",
    "from sim_diffusion import EllipsoidePlot as diff_map\n",
    "\n",
    "N = 5 #number to be evaluated cells\n",
    "binning = 160 #binning to x nm,used to name the file containing the average values\n",
    "resultpath = '/Volumes/Reindeer/TrackingVSGAtto/Trc/results/Maps'\n",
    "path='/Volumes/Reindeer/TrackingVSGAtto/Trc/results/Trc' #splitted for iteration\n",
    "filename = '/results_filtering/'\n",
    "\n",
    "errcorr = 'No' #shall the error correction be performed? 'Yes' or 'No'\n",
    "t_lag = 10 #time lag in ms\n",
    "sigma = 26 #localisation precision in nm"
   ]
  },
  {
   "cell_type": "code",
   "execution_count": null,
   "metadata": {
    "scrolled": true
   },
   "outputs": [],
   "source": [
    "motion_map(path,filename,resultpath,binning,sigma,t_lag,N,errcorr)"
   ]
  },
  {
   "cell_type": "code",
   "execution_count": null,
   "metadata": {},
   "outputs": [],
   "source": [
    "diff_map(path,filename,resultpath,binning,N)"
   ]
  },
  {
   "cell_type": "code",
   "execution_count": null,
   "metadata": {},
   "outputs": [],
   "source": []
  }
 ],
 "metadata": {
  "kernelspec": {
   "display_name": "Python 3",
   "language": "python",
   "name": "python3"
  },
  "language_info": {
   "codemirror_mode": {
    "name": "ipython",
    "version": 3
   },
   "file_extension": ".py",
   "mimetype": "text/x-python",
   "name": "python",
   "nbconvert_exporter": "python",
   "pygments_lexer": "ipython3",
   "version": "3.8.5"
  }
 },
 "nbformat": 4,
 "nbformat_minor": 2
}
