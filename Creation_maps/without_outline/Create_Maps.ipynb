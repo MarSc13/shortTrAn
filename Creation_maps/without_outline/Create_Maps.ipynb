{
 "cells": [
  {
   "cell_type": "markdown",
   "metadata": {},
   "source": [
    "The jupyter notebook <b>Create_Maps</b> creates the diffusion and direted motion maps without outlining a structural element. The maps show the local information on diffusion and directed motion. The localisation error in the directed motion is taken into account here. The calculation is defined by the input parameter 'errcorr'. \n",
    "\n",
    "<b>Diffusion:</b>\n",
    "The diffusion map is an ellipse plot. The eigenvalues (diffusion coefficients) and eigenvectors (orientation of the ellipses) are calculated from the local diffusion tensors. Additionally, the eigenvalues are used to calculate the eccentricity of the ellipses. Finally, the plots (.pdf,.png) and information on the diffusion coeffcients, angle as well as the eccentricity are saved to the result folder of the diffusion maps. \n",
    "\n",
    "<b>Directed motion:</b>\n",
    "The local velocities are calculated by the local directed motion vectors. The results of the directed motion calculations are presented in three or at least two maps: \n",
    "- Heat map displaying the amplitude of the velocities,\n",
    "- Quiver plot indicating the direction of the velocities\n",
    "- (Heat map of the relative standard error for the consideration of the localisation error influence).\n",
    "\n",
    "Finally, the plots (.pdf,.png) and information about the speed, angle (and relative error) are saved to the results folder of the directed motion maps.\n",
    "\n",
    "To run this notebook, the analysis of the trajectories (shortTrAn/Trajectory_analysis) must have been carried out beforehand."
   ]
  },
  {
   "cell_type": "code",
   "execution_count": null,
   "metadata": {},
   "outputs": [],
   "source": [
    "from sim_directed_motion import directed_motion \n",
    "from sim_diffusion import EllipsoidePlot\n",
    "\n",
    "N = 5 #number to be evaluated cells\n",
    "binning = 160 #binning to x nm,used to name the file containing the average values\n",
    "resultpath = '/Volumes/Reindeer/TrackingVSGAtto/Trc/results/Maps'\n",
    "path='/Volumes/Reindeer/TrackingVSGAtto/Trc/results/Trc' #splitted for iteration\n",
    "filename = '/results_filtering/'\n",
    "\n",
    "errcorr = 'No' #shall the error correction be performed? 'Yes' or 'No'\n",
    "t_lag = 10 #time lag in ms\n",
    "sigma = 26 #localisation precision in nm"
   ]
  },
  {
   "cell_type": "code",
   "execution_count": null,
   "metadata": {
    "scrolled": true
   },
   "outputs": [],
   "source": [
    "directed_motion(path,filename,resultpath,binning,sigma,t_lag,N,errcorr)"
   ]
  },
  {
   "cell_type": "code",
   "execution_count": null,
   "metadata": {},
   "outputs": [],
   "source": [
    "EllipsoidePlot(path,filename,resultpath,binning,N)"
   ]
  }
 ],
 "metadata": {
  "kernelspec": {
   "display_name": "Python 3",
   "language": "python",
   "name": "python3"
  },
  "language_info": {
   "codemirror_mode": {
    "name": "ipython",
    "version": 3
   },
   "file_extension": ".py",
   "mimetype": "text/x-python",
   "name": "python",
   "nbconvert_exporter": "python",
   "pygments_lexer": "ipython3",
   "version": "3.8.5"
  }
 },
 "nbformat": 4,
 "nbformat_minor": 2
}
