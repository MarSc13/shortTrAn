{
 "cells": [
  {
   "cell_type": "code",
   "execution_count": null,
   "metadata": {},
   "outputs": [],
   "source": [
    "from SupermapsPlusOutline import Supermap"
   ]
  },
  {
   "cell_type": "markdown",
   "metadata": {},
   "source": [
    "This jupyter notebook provides an guidline to decide whether diffusion or directed motion is locally predominant. Two criteria are used: \n",
    "- the eccentricity of the diffusion tensors: indication of an- or isotropic diffusion \n",
    "- the relative standard error: indication of the likelihood of an directed motion\n",
    "Thresholds are applied to distinguish between the motion model.\n",
    "\n",
    "First, superpixels of which both criteria point to one motion model will be assigned.\n",
    "Second, superpixels with contradictory assignment are characterised by the criterium with a stronger indication to one of the motion models (quantification of how well the measured parameter may be distinguished from its corresponding threshold). \n",
    "Third, orphan pixels (unassigned superpixels) are filled according to their surrounding.\n",
    "\n",
    "This script has the option of strict assignment: Only the first and thrid step will be performed.\n",
    "\n",
    "In addition, this script draws the outline of an reference structure."
   ]
  },
  {
   "cell_type": "code",
   "execution_count": null,
   "metadata": {},
   "outputs": [],
   "source": [
    "#path to the data obtained by shortTrAn \n",
    "path_results = '/Volumes/Vin/TrackingVSGAtto/Correlation_flegalla/PythonAnalysis/results'\n",
    "#folder name of shortTrAn diffusion and directed motion maps\n",
    "fldrnm_maps = 'Maps_OutlineAll'\n",
    "\n",
    "#paths to the look up tables of the eccentricity and relative standard error\n",
    "path_ecc_lut = '/Volumes/Vin/Python/LUTs/LUTecc/thres99_fit.tif'\n",
    "path_err_lut = '/Volumes/Vin/Python/LUTs/LUTrelErr/thres01_fit.tif'\n",
    "\n",
    "#path to the folder used for saving result\n",
    "resultpath = '/Volumes/Vin/TrackingVSGAtto/Correlation_flegalla/PythonAnalysis/results_morn'\n",
    "\n",
    "#Decision guideline will be only applied to superpixels with a statistics > stat_thres \n",
    "#(count > stat_thres)\n",
    "stat_thres = 7 \n",
    "\n",
    "# |(Δeccentricity - ΔrelErr)| > diff; used when both criteria point to contrary motion models\n",
    "diff = 0.25\n",
    "\n",
    "#box kernel filling superpixel by consideration of the adjacent superpixels: \n",
    "#superpixel_of_same_motionmodel >= n_sim_sqrs;  max. n_sim_sqrs = 8 \n",
    "n_sim_sqrs = 7\n",
    "\n",
    "#strict = superpixels will be only assigned to a motion model if both criteria point to \n",
    "#this motion model\n",
    "strict = 0 #yes=1, no=0 \n",
    "\n",
    "#number of to be evaluated data sets\n",
    "N = 10\n",
    "\n",
    "#path to the folder containing the corrdinate file of the outline \n",
    "#(filename: coor_outline_scal_i.npy) \n",
    "outline_path = '/Volumes/Vin/TrackingVSGAtto/Correlation_flegalla/PythonAnalysis/results_morn90_2'\n",
    "highlighting = 'No' #Yes/yes or No/no"
   ]
  },
  {
   "cell_type": "code",
   "execution_count": null,
   "metadata": {},
   "outputs": [],
   "source": [
    "Supermap(path_results,fldrnm_maps,path_ecc_lut,path_err_lut,outline_path,highlighting,\\\n",
    "         resultpath,stat_thres,diff,n_sim_sqrs,strict,N)"
   ]
  },
  {
   "cell_type": "code",
   "execution_count": null,
   "metadata": {},
   "outputs": [],
   "source": []
  }
 ],
 "metadata": {
  "kernelspec": {
   "display_name": "Python 3",
   "language": "python",
   "name": "python3"
  },
  "language_info": {
   "codemirror_mode": {
    "name": "ipython",
    "version": 3
   },
   "file_extension": ".py",
   "mimetype": "text/x-python",
   "name": "python",
   "nbconvert_exporter": "python",
   "pygments_lexer": "ipython3",
   "version": "3.8.5"
  }
 },
 "nbformat": 4,
 "nbformat_minor": 4
}
